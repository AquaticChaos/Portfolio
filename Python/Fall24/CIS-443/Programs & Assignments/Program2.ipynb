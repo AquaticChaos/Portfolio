{
 "cells": [
  {
   "cell_type": "code",
   "execution_count": null,
   "id": "70a03b8b-4ae4-4b82-87e1-26bb000aa62b",
   "metadata": {},
   "outputs": [],
   "source": [
    "#Course: CIS-443-01-4248\n",
    "#Program 2\n",
    "#Due: 10/21/2024\n",
    "#Description: Gathers user input for number of students and grades per student, the student's names, and their grades.\n",
    "    #Calculates the mean grade for each student as well as their letter grade, then plots the tally of each letter grade on a bar graph."
   ]
  },
  {
   "cell_type": "code",
   "execution_count": 532,
   "id": "cb30910f-bda5-4c4c-b3ee-81357c5ed5a3",
   "metadata": {},
   "outputs": [],
   "source": [
    "def input_scoring(studCount = 1, gradeCount = 1):\n",
    "    finalList = {}\n",
    "    for i in range(0, studCount):\n",
    "        studName = input(f\"Enter student #{i+1}'s name:\")\n",
    "        gradeList = []\n",
    "        for j in range (0, gradeCount):\n",
    "            studGrade = input(f\"Enter {studName}'s #{j+1} grade:\")\n",
    "            gradeList.insert(j,studGrade)\n",
    "        finalList[studName] = gradeList\n",
    "    return finalList"
   ]
  },
  {
   "cell_type": "code",
   "execution_count": 534,
   "id": "446f6c49-3df8-4b7c-8705-c9501169ce38",
   "metadata": {},
   "outputs": [],
   "source": [
    "import matplotlib.pyplot as plt \n",
    "\n",
    "def summarize_grades(gradeList):\n",
    "    gradeDict = {\"A\":0,\"B\":0,\"C\":0,\"D\":0,\"F\":0}\n",
    "    gradePltTally = 0\n",
    "    finalList = {}\n",
    "    for i in list(gradeList.keys()):\n",
    "        gradeSum = 0\n",
    "        gradeTally = 0\n",
    "        gradeLetter = \"\"\n",
    "        for j in gradeList[i]:\n",
    "            gradeSum += int(j)\n",
    "            gradeTally += 1\n",
    "        gradeAver = float(gradeSum / gradeTally)\n",
    "\n",
    "        if (gradeAver >= 90.0):\n",
    "            gradeLetter = \"A\"\n",
    "            gradeDict[\"A\"] += 1\n",
    "        elif (gradeAver < 90.0 and gradeAver >= 80.0):\n",
    "            gradeLetter = \"B\"\n",
    "            gradeDict[\"B\"] += 1\n",
    "        elif (gradeAver < 80.0 and gradeAver >= 70.0):\n",
    "            gradeLetter = \"C\"\n",
    "            gradeDict[\"C\"] += 1\n",
    "        elif (gradeAver < 70.0 and gradeAver >= 60.0):\n",
    "            gradeLetter = \"D\"\n",
    "            gradeDict[\"D\"] += 1\n",
    "        else:\n",
    "            gradeLetter = \"F\"\n",
    "            gradeDict[\"F\"] += 1\n",
    "        finalList[i] = gradeLetter\n",
    "        gradePltTally += 1 #Used for maximum y value\n",
    "    \n",
    "    dictKeys = list(gradeDict.keys())\n",
    "    dictValues = list(gradeDict.values())\n",
    "    plt.bar(dictKeys, dictValues)\n",
    "    plt.xlabel(\"Letter Grade\")\n",
    "    plt.ylabel(\"No. of letter grade reported\")\n",
    "    plt.title(\"Student letter grades based on mean grades\")\n",
    "    plt.axis([-1, 5, 0, gradePltTally])\n",
    "    plt.locator_params(axis=\"y\", integer=True, tight=False)\n",
    "    gradeList = list(gradeDict.items())\n",
    "    plt.text(-0.25, gradeDict[\"A\"]+0.05, f\"A: {gradeDict[\"A\"]}\") #Couldn't figure out how to loop through\n",
    "    plt.text(0.75, gradeDict[\"B\"]+0.05, f\"B: {gradeDict[\"B\"]}\")\n",
    "    plt.text(1.75, gradeDict[\"C\"]+0.05, f\"C: {gradeDict[\"C\"]}\")\n",
    "    plt.text(2.75, gradeDict[\"D\"]+0.05, f\"D: {gradeDict[\"D\"]}\")\n",
    "    plt.text(3.75, gradeDict[\"F\"]+0.05, f\"F: {gradeDict[\"F\"]}\")"
   ]
  },
  {
   "cell_type": "code",
   "execution_count": null,
   "id": "5007a478-e548-410c-9918-3c17b3b4f975",
   "metadata": {},
   "outputs": [],
   "source": [
    "studInput = int(input(\"Enter the amount of students\"))\n",
    "gradeInput = int(input(\"Enter the amount of grades per student\"))\n",
    "\n",
    "fullList = input_scoring(studInput, gradeInput)\n",
    "#fullList = {'Anna': [90], 'Blake': [80],'Chris': [70],'Dillon': [60], 'Frederick': [50]}\n",
    "summarize_grades(fullList)"
   ]
  },
  {
   "cell_type": "code",
   "execution_count": null,
   "id": "f2123235-22f3-4adf-8757-5681ea8724d7",
   "metadata": {},
   "outputs": [],
   "source": []
  }
 ],
 "metadata": {
  "kernelspec": {
   "display_name": "Python 3 (ipykernel)",
   "language": "python",
   "name": "python3"
  },
  "language_info": {
   "codemirror_mode": {
    "name": "ipython",
    "version": 3
   },
   "file_extension": ".py",
   "mimetype": "text/x-python",
   "name": "python",
   "nbconvert_exporter": "python",
   "pygments_lexer": "ipython3",
   "version": "3.12.3"
  }
 },
 "nbformat": 4,
 "nbformat_minor": 5
}
