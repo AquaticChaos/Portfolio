{
 "cells": [
  {
   "cell_type": "code",
   "execution_count": null,
   "id": "99d0bb2f-c8ad-4135-8e6b-922c90a981dc",
   "metadata": {
    "scrolled": true
   },
   "outputs": [],
   "source": [
    "#Course: CIS-443-01-4248\n",
    "#Program 3\n",
    "#Due: 11/8/2024\n",
    "#Description: Using the AutoMPGdata.csv file provided, this program will create two linear regression models to predict the miles per gallon-\n",
    "    #One from the horsepower, other from the manufacturing year. It will gather the P-value, R Squared value, slope, and intercept.\n",
    "    #It additionally graphs the points and, lastly, predicts what the MPG will be with a certain horsepower/year.\n",
    "\n",
    "import pandas as pd\n",
    "import seaborn as sns\n",
    "import matplotlib.pyplot as plt\n",
    "from scipy import stats\n",
    "data = pd.read_csv('AutoMPGdata.csv')\n",
    "reduced_data = data[['Horsepower', 'Year', 'MPG']]\n",
    "reduced_data"
   ]
  },
  {
   "cell_type": "code",
   "execution_count": null,
   "id": "0c14b4df-65e3-4216-82d0-b0fdafbab7e8",
   "metadata": {},
   "outputs": [],
   "source": [
    "data_linreg1 = stats.linregress(reduced_data['Horsepower'], reduced_data['MPG'])\n",
    "\n",
    "data_pSq1 = data_linreg1.pvalue * data_linreg1.pvalue\n",
    "print(f\"R Squared: {data_pSq1} \\nP Value: {data_linreg1.pvalue}\\n\")\n",
    "print(f\"Based on the above (both significantly small), the regression model cannot explain much- however it is still significant enough.\")\n",
    "\n",
    "sns.regplot(x='Horsepower', y='MPG', data=reduced_data)\n",
    "plt.show()\n",
    "\n",
    "predictHP = 125\n",
    "predictMPG = predictHP * data_linreg1.slope + data_linreg1.intercept\n",
    "print(f'The intercept is {data_linreg1.intercept} and the slope is {data_linreg1.slope}')\n",
    "print(f'If the horsepower was equal to {predictHP} hp, then the predicted miles per gallons is {predictMPG}')\n",
    "print(f'Overall, as horsepower increases by 1 then the miles per gallon will decrease by about 0.16')"
   ]
  },
  {
   "cell_type": "code",
   "execution_count": null,
   "id": "3c767e3a-7909-4873-89c5-70db9358b2b4",
   "metadata": {},
   "outputs": [],
   "source": [
    "data_linreg2 = stats.linregress(reduced_data['Year'], reduced_data['MPG'])\n",
    "\n",
    "data_pSq2 = data_linreg2.pvalue * data_linreg2.pvalue\n",
    "print(f\"R Squared: {data_pSq2} \\nP Value: {data_linreg2.pvalue}\\n\")\n",
    "print(f\"Based on the above (both significantly small), the regression model cannot explain much- however it is still significant enough.\")\n",
    "\n",
    "sns.regplot(x='Year', y='MPG', data=reduced_data)\n",
    "plt.show()\n",
    "\n",
    "predictYear = 84\n",
    "predictMPG = predictYear * data_linreg2.slope + data_linreg2.intercept\n",
    "print(f'The intercept is {data_linreg2.intercept} and the slope is {data_linreg2.slope}')\n",
    "print(f\"If the year is '{predictYear}, then the predicted miles per gallons is {predictMPG}\")\n",
    "print(f'Overall, as the manufacturing increases by 1 then the miles per gallon will increase by about 1.23')"
   ]
  }
 ],
 "metadata": {
  "kernelspec": {
   "display_name": "Python 3 (ipykernel)",
   "language": "python",
   "name": "python3"
  },
  "language_info": {
   "codemirror_mode": {
    "name": "ipython",
    "version": 3
   },
   "file_extension": ".py",
   "mimetype": "text/x-python",
   "name": "python",
   "nbconvert_exporter": "python",
   "pygments_lexer": "ipython3",
   "version": "3.12.3"
  }
 },
 "nbformat": 4,
 "nbformat_minor": 5
}
