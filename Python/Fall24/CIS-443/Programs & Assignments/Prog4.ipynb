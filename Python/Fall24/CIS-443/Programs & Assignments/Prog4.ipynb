{
 "cells": [
  {
   "cell_type": "markdown",
   "metadata": {
    "id": "GacMba-5t1SX"
   },
   "source": [
    "# CIS 443-01 - Analytics Programming\n",
    "## Program 4\n",
    "__Worth__: 100 pts.<br />\n",
    "__Purpose__: Use a SKLearn to build an analytic model for categorical data"
   ]
  },
  {
   "cell_type": "markdown",
   "metadata": {
    "id": "WjernZjFt1Sa"
   },
   "source": [
    "### Directions\n",
    "In the code cell below, write Python code to accomplish the following using what you've learned through the semester. \n",
    "\n",
    "\n",
    "#### Part 1\n",
    "\n",
    "Your code should use the preloaded data set to build a logistic regression model. Perform a training and testing split of this data before you create this model./ \n",
    "\n",
    "Once you have created this model, obtain all coefficients created by the model. \n",
    "\n",
    "Explain each of the two sets of coefficients, and what they mean. \n",
    "\n",
    "Score your model against the testing dataset, and explain when the score returned represents. "
   ]
  },
  {
   "cell_type": "code",
   "execution_count": 58,
   "metadata": {},
   "outputs": [],
   "source": [
    "#Provided Code\n",
    "import pandas as pd\n",
    "\n",
    "add_df = pd.read_csv('social_ads.csv')\n",
    "\n",
    "x_data = add_df[['Age','EstimatedSalary']].values.reshape(-1, 2)\n",
    "y_target = add_df.Purchased.values"
   ]
  },
  {
   "cell_type": "code",
   "execution_count": 60,
   "metadata": {
    "id": "8ZZORCgut1Sb"
   },
   "outputs": [
    {
     "name": "stdout",
     "output_type": "stream",
     "text": [
      "Coefficients: [[2.13230978e-01 3.58403899e-05]]\n",
      "Inercepts: [-11.65047336]\n",
      "Accuracy: 0.82\n"
     ]
    }
   ],
   "source": [
    "# Put Program 4 Code Here. Do not create any additional code blocks or points may be deducted. \n",
    "from sklearn.linear_model import LogisticRegression\n",
    "from sklearn.model_selection import train_test_split\n",
    "\n",
    "x_train, x_test, y_train, y_test = train_test_split(x_data, y_target)\n",
    "logReg = LogisticRegression() #THIS IS AN IMPORTANT STEP TO PREVENT ATTRIBUTEERROR\n",
    "logReg.fit(x_train, y_train)\n",
    "\n",
    "coef = logReg.coef_\n",
    "inter = logReg.intercept_\n",
    "\n",
    "#Positive coefficients mean a direct relationship, negative means an inverse relationship\n",
    "#The larger the coefficient, the stronger the relationship is\n",
    "print(f\"Coefficients: {coef}\")\n",
    "\n",
    "#The smaller the intercept, the less likely of a major correlation\n",
    "#Above 0 it's likely, below 0 it's unlikely\n",
    "print(f\"Inercepts: {inter}\")\n",
    "\n",
    "#Score is a percentage value of how accurate the model is\n",
    "print(f\"Accuracy: {logReg.score(x_test, y_test)}\")"
   ]
  },
  {
   "cell_type": "markdown",
   "metadata": {
    "id": "yk3sJ9Znt1Sn"
   },
   "source": [
    "#### Part 2\n",
    "\n",
    "Use pandas and Matplotlib to create a confusion matrix of the scoring of your model. Because this is a Yes/No Questionaire, you can consider it a TP/TN/FP/FN matrix.\n",
    "\n"
   ]
  },
  {
   "cell_type": "code",
   "execution_count": 72,
   "metadata": {},
   "outputs": [
    {
     "name": "stdout",
     "output_type": "stream",
     "text": [
      "True Positive - True Negative\n",
      "[[59  5]\n",
      " [13 23]]\n",
      "False Positive - False Negative\n"
     ]
    }
   ],
   "source": [
    "from sklearn.metrics import confusion_matrix\n",
    "y_predict = logReg.predict(x_test)\n",
    "conf_matrix = confusion_matrix(y_test, y_predict)\n",
    "print(\"True Positive - True Negative\")\n",
    "print(conf_matrix)\n",
    "print(\"False Positive - False Negative\")"
   ]
  },
  {
   "cell_type": "markdown",
   "metadata": {
    "id": "bexgWeCMt1Sn"
   },
   "source": [
    "Be sure to save and exit your Jupyter Notebook and Shutdown Jupyter Lab (from the __File__ menu) before you submit your notebook on Blackboard for grading."
   ]
  }
 ],
 "metadata": {
  "colab": {
   "collapsed_sections": [],
   "provenance": []
  },
  "kernelspec": {
   "display_name": "Python 3 (ipykernel)",
   "language": "python",
   "name": "python3"
  },
  "language_info": {
   "codemirror_mode": {
    "name": "ipython",
    "version": 3
   },
   "file_extension": ".py",
   "mimetype": "text/x-python",
   "name": "python",
   "nbconvert_exporter": "python",
   "pygments_lexer": "ipython3",
   "version": "3.12.3"
  }
 },
 "nbformat": 4,
 "nbformat_minor": 4
}
