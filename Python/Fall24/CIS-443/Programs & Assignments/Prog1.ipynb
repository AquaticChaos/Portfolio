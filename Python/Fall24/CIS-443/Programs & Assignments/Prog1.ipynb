{
 "cells": [
  {
   "cell_type": "markdown",
   "metadata": {
    "id": "GacMba-5t1SX"
   },
   "source": [
    "# CIS 443-01 - Analytics Programming\n",
    "## Program 1\n",
    "__Due__: Monday September 23 (by 11:59 PM)<br />\n",
    "__Worth__: 50 pts.<br />\n",
    "__Purpose__: Use a function and repetition control structure to demonstrate compounding interest."
   ]
  },
  {
   "cell_type": "markdown",
   "metadata": {
    "id": "WjernZjFt1Sa"
   },
   "source": [
    "### Directions\n",
    "In the code cell below, write Python code to accomplish the following using what you've learned through Chapter 4. \n",
    "\n",
    "\n",
    "#### Part 1\n",
    "\n",
    "Your code should allow the user to enter three values: a principle balance, an interest rate, and a number of years. \n",
    "\n",
    "For simplicity's sake, we will compound our interest once per year. In order to do so, create a function interest_calculator with three inputs, corresponding to the user inputs. They should have the default values 10000, .09, and 10, respectively. \n",
    "\n",
    "Your formula to calculate the interest will be Balance(Year + 1) = Balance * (1 + interest rate)\n",
    "\n",
    "So for example, starting with 10,000 and a 5% interest rate, the formula is 10,000 * (1 + .05) = 10,500. The next year would be 10,500 * (1 + .05) = 11,025 and so on. \n",
    "\n",
    "Each year you will output the year number, and the value of the balance that year. \n"
   ]
  },
  {
   "cell_type": "code",
   "execution_count": 52,
   "metadata": {
    "id": "8ZZORCgut1Sb"
   },
   "outputs": [
    {
     "name": "stdin",
     "output_type": "stream",
     "text": [
      "Enter the principle balance:  14339\n",
      "Enter the interest rate:  .11\n",
      "Enter the number of years:  10\n"
     ]
    },
    {
     "name": "stdout",
     "output_type": "stream",
     "text": [
      "Year 1 compounded value is: $15,916.29\n",
      "Year 2 compounded value is: $17,667.08\n",
      "Year 3 compounded value is: $19,610.46\n",
      "Year 4 compounded value is: $21,767.61\n",
      "Year 5 compounded value is: $24,162.05\n",
      "Year 6 compounded value is: $26,819.87\n",
      "Year 7 compounded value is: $29,770.06\n",
      "Year 8 compounded value is: $33,044.77\n",
      "Year 9 compounded value is: $36,679.69\n",
      "Year 10 compounded value is: $40,714.46\n"
     ]
    }
   ],
   "source": [
    "from decimal import Decimal #Import decimal for interest rate\n",
    "import locale #Import locale for currency formatting\n",
    "\n",
    "locale.setlocale( locale.LC_ALL, '' ) #Set locale to current region\n",
    "\n",
    "def interest_calculator (balance = 10_000, rate = .09, years = 10): #Create function with default values\n",
    "    currBal = balance #Set current balance to initial balance\n",
    "    for year in range(1, years + 1): #Loop through from 1 to the year parameter plus one (range's second value is exclusive)\n",
    "        intComp = currBal * (1 + rate) #Calculate compounded interest for given year\n",
    "        print(f\"Year {year} compounded value is: {locale.currency(intComp, grouping=True)}\") #Print year, compound interest\n",
    "        currBal = intComp #Set the current balance for the next loop around to the compound interest\n",
    "\n",
    "#Ask for user input. Note: No validation done\n",
    "prinBal = int(input(\"Enter the principle balance: \"))\n",
    "intRate = Decimal(input(\"Enter the interest rate: \"))\n",
    "numYears = int(input(\"Enter the number of years: \"))\n",
    "\n",
    "#interest_calculator() #Used for testing default values\n",
    "interest_calculator(prinBal, intRate, numYears) #Execute the function from earlier with user input\n",
    "    "
   ]
  },
  {
   "cell_type": "markdown",
   "metadata": {},
   "source": [
    "### Example Output\n",
    "<div class=\"alert alert-block alert-info\">\n",
    "Enter the principle balance:  14339<br>\n",
    "Enter the interest rate:  .11<br>\n",
    "Enter the number of years:  10<br>\n",
    "Year 1 compounded value is \\$15916.29<br>\n",
    "Year 2 compounded value is \\$17667.08<br>\n",
    "Year 3 compounded value is \\$19610.46<br>\n",
    "Year 4 compounded value is \\$21767.61<br>\n",
    "Year 5 compounded value is \\$24162.05<br>\n",
    "Year 6 compounded value is \\$26819.87<br>\n",
    "Year 7 compounded value is \\$29770.06<br>\n",
    "Year 8 compounded value is \\$33044.77<br>\n",
    "Year 9 compounded value is \\$36679.69<br>\n",
    "Year 10 compounded value is \\$40714.46\n",
    "</div>"
   ]
  },
  {
   "cell_type": "markdown",
   "metadata": {
    "id": "yk3sJ9Znt1Sn"
   },
   "source": [
    "#### Part 2\n",
    "**Answer the following**:\n",
    "\n",
    "How many years of this calculation do you have to use before you first get 38,000, at 5% interest, starting with 7,500?<br />\n",
    "34<br />\n",
    "100,000?<br />\n",
    "54<br />\n",
    "1,000,000?<br />\n",
    "101<br />\n",
    "\n",
    "Double click the cell in Jupyter to edit (__5 pts.__)\n",
    "\n"
   ]
  },
  {
   "cell_type": "markdown",
   "metadata": {
    "id": "bexgWeCMt1Sn"
   },
   "source": [
    "Be sure to save and exit your Jupyter Notebook and Shutdown Jupyter Lab (from the __File__ menu) before you submit your notebook on Blackboard for grading."
   ]
  }
 ],
 "metadata": {
  "colab": {
   "collapsed_sections": [],
   "provenance": []
  },
  "kernelspec": {
   "display_name": "Python 3 (ipykernel)",
   "language": "python",
   "name": "python3"
  },
  "language_info": {
   "codemirror_mode": {
    "name": "ipython",
    "version": 3
   },
   "file_extension": ".py",
   "mimetype": "text/x-python",
   "name": "python",
   "nbconvert_exporter": "python",
   "pygments_lexer": "ipython3",
   "version": "3.12.3"
  }
 },
 "nbformat": 4,
 "nbformat_minor": 4
}
