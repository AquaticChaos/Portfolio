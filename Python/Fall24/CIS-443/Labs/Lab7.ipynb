{
 "cells": [
  {
   "cell_type": "markdown",
   "metadata": {
    "id": "gJ3PNJT65wah"
   },
   "source": [
    "# CIS 443-01 - Analytics Programming\n",
    "## Lab 9\n",
    "__Worth__: 25 pts."
   ]
  },
  {
   "cell_type": "markdown",
   "metadata": {
    "id": "nwCG4sdQ5wal"
   },
   "source": [
    "### Directions\n",
    "Find your favorite restaurant on <a href=\"https://www.yelp.com/\" target=\"blank\">Yelp</a> and copy the text of two reviews, ideally one positive and one negative. In the code cell below, write Python code to create two TextBlobs using the text of each review. For each review, calculate and display the sentiment of each review as a whole and of each sentence in the reviews (as in Section 12.2.5 of the text). Use TextBlob's default sentiment analyzer. Print each review and each sentence along with its associated sentiment to make it easy to see if the calculated sentiment matches your expectations.\n",
    "\n",
    "Test your source code and save your work before submission. (25 pts.)"
   ]
  },
  {
   "cell_type": "code",
   "execution_count": 58,
   "metadata": {
    "jupyter": {
     "source_hidden": true
    }
   },
   "outputs": [],
   "source": [
    "#Yelp Reviews\n",
    "tb_positive = '''\n",
    "Bonnie & Clyde's has been a pizza place for me for a very long time! My 1st job at 16! lol\n",
    "\n",
    "I know they use fresh ingredients, make their own sausage, pizza sauce & crust plus use fresh vegetables, NOT frozen. This is why their pizza & salad & sandwiches are always awesome.\n",
    "\n",
    "My favorite pizza is pepperoni, mushrooms, green peppers & pineapple. It is so good every time I get it!\n",
    "But, yesterday I tried their famous Italian Pie. It is SO huge it takes a long time to cook, so order an hour in advance. Now I know what all the hype was about. It has layers of cheese & all the meats & vegetables and plenty of sauce! It is so huge I could only eat 1 piece so I will be eating it all weekend.\n",
    "\n",
    "It is truly an old time pizza place but you can get carry out or eat there & watch TV.\n",
    "Be prepared & take cash & they get so busy that sometimes they can't answer calls. Call early or go on up there & order it! You won't be disappointed!\n",
    "Here is a picture of the Italian Pie that is so yummy!\n",
    "'''\n",
    "\n",
    "tb_negative = '''\n",
    "Over 50 years in business so they have a continued customer base who pays CASH only.\n",
    "They are in dire need of some TLC due to some chairs are worn out (one looked like a cat got ahold of it) and if you a bigger person your going to love maneuvering out of the stall since doors open inward and barely clear the potty and then to exit you must do some tricky moves. USUALLY could care less about a bathroom, but you need to know.\n",
    "\n",
    "You order at the counter and they give you a giant playing card and then call over the loud speaker for.you to get your pizza.\n",
    "\n",
    "No refills.\n",
    "Get your own plates and silverware.\n",
    "Wait for your card to be called and get your food.\n",
    "\n",
    "Pizza was crunchy.\n",
    "Sausage is made in house and has fennel in it.\n",
    "Add extra cheese, tad stingy with cheese.\n",
    "\n",
    "Good job for staying true to your roots over 50 years, now time to spruce up a smidgen.\n",
    "'''"
   ]
  },
  {
   "cell_type": "code",
   "execution_count": 62,
   "metadata": {
    "id": "xbPWqDTl5wan"
   },
   "outputs": [
    {
     "name": "stdout",
     "output_type": "stream",
     "text": [
      "---Positive Review---\n",
      "Overall Sentiment(polarity=0.234921875, subjectivity=0.5935)\n",
      "\n",
      "Bonnie & Clyde's has been a pizza place for me for a very long time! \n",
      "   ///Sentiment(polarity=-0.08125, subjectivity=0.52)\n",
      "My 1st job at 16! \n",
      "   ///Sentiment(polarity=0.0, subjectivity=0.0)\n",
      "lol\n",
      "\n",
      "I know they use fresh ingredients, make their own sausage, pizza sauce & crust plus use fresh vegetables, NOT frozen. \n",
      "   ///Sentiment(polarity=0.5, subjectivity=0.675)\n",
      "This is why their pizza & salad & sandwiches are always awesome. \n",
      "   ///Sentiment(polarity=1.0, subjectivity=1.0)\n",
      "My favorite pizza is pepperoni, mushrooms, green peppers & pineapple. \n",
      "   ///Sentiment(polarity=0.15, subjectivity=0.65)\n",
      "It is so good every time I get it! \n",
      "   ///Sentiment(polarity=0.875, subjectivity=0.6000000000000001)\n",
      "But, yesterday I tried their famous Italian Pie. \n",
      "   ///Sentiment(polarity=0.25, subjectivity=0.5)\n",
      "It is SO huge it takes a long time to cook, so order an hour in advance. \n",
      "   ///Sentiment(polarity=0.175, subjectivity=0.65)\n",
      "Now I know what all the hype was about. \n",
      "   ///Sentiment(polarity=0.0, subjectivity=0.0)\n",
      "It has layers of cheese & all the meats & vegetables and plenty of sauce! \n",
      "   ///Sentiment(polarity=0.0, subjectivity=0.0)\n",
      "It is so huge I could only eat 1 piece so I will be eating it all weekend. \n",
      "   ///Sentiment(polarity=0.19999999999999998, subjectivity=0.95)\n",
      "It is truly an old time pizza place but you can get carry out or eat there & watch TV. \n",
      "   ///Sentiment(polarity=0.1, subjectivity=0.2)\n",
      "Be prepared & take cash & they get so busy that sometimes they can't answer calls. \n",
      "   ///Sentiment(polarity=0.1, subjectivity=0.3)\n",
      "Call early or go on up there & order it! \n",
      "   ///Sentiment(polarity=0.125, subjectivity=0.3)\n",
      "You won't be disappointed! \n",
      "   ///Sentiment(polarity=-0.9375, subjectivity=0.75)\n",
      "Here is a picture of the Italian Pie that is so yummy! \n",
      "   ///Sentiment(polarity=0.0, subjectivity=0.0)\n",
      "\n",
      "---Negative Review---\n",
      "Overall Sentiment(polarity=0.06722222222222222, subjectivity=0.5883333333333333)\n",
      "\n",
      "Over 50 years in business so they have a continued customer base who pays CASH only. \n",
      "   ///Sentiment(polarity=-0.4, subjectivity=1.0)\n",
      "They are in dire need of some TLC due to some chairs are worn out (one looked like a cat got ahold of it) and if you a bigger person your going to love maneuvering out of the stall since doors open inward and barely clear the potty and then to exit you must do some tricky moves. \n",
      "   ///Sentiment(polarity=0.095, subjectivity=0.4716666666666667)\n",
      "USUALLY could care less about a bathroom, but you need to know. \n",
      "   ///Sentiment(polarity=-0.20833333333333331, subjectivity=0.15833333333333333)\n",
      "You order at the counter and they give you a giant playing card and then call over the loud speaker for.you to get your pizza. \n",
      "   ///Sentiment(polarity=0.05, subjectivity=0.9)\n",
      "No refills. \n",
      "   ///Sentiment(polarity=0.0, subjectivity=0.0)\n",
      "Get your own plates and silverware. \n",
      "   ///Sentiment(polarity=0.6, subjectivity=1.0)\n",
      "Wait for your card to be called and get your food. \n",
      "   ///Sentiment(polarity=0.0, subjectivity=0.0)\n",
      "Pizza was crunchy. \n",
      "   ///Sentiment(polarity=0.0, subjectivity=0.0)\n",
      "Sausage is made in house and has fennel in it. \n",
      "   ///Sentiment(polarity=0.0, subjectivity=0.0)\n",
      "Add extra cheese, tad stingy with cheese. \n",
      "   ///Sentiment(polarity=0.0, subjectivity=0.1)\n",
      "Good job for staying true to your roots over 50 years, now time to spruce up a smidgen. \n",
      "   ///Sentiment(polarity=0.5249999999999999, subjectivity=0.625)\n"
     ]
    }
   ],
   "source": [
    "# Put Lab 9 Code Here\n",
    "from textblob import TextBlob\n",
    "\n",
    "#Create textblobs of both reviews\n",
    "#Note: See the above cell for the full text of both reviews.\n",
    "blob_positive = TextBlob(tb_positive)\n",
    "blob_negative = TextBlob(tb_negative)\n",
    "\n",
    "#Print the overall sentiment (polarity and subjectivity) of the positive review\n",
    "print(f\"---Positive Review---\\nOverall {blob_positive.sentiment}\")\n",
    "#For each sentence in the positive review, print its sentiment\n",
    "for sentence in blob_positive.sentences:\n",
    "    print(f\"{sentence} \\n   ///{sentence.sentiment}\")\n",
    "\n",
    "#Print the overall sentiment of the negative review\n",
    "print(f\"\\n---Negative Review---\\nOverall {blob_negative.sentiment}\")\n",
    "#For each sentence in the negative review, print its sentiment\n",
    "for sentence in blob_negative.sentences:\n",
    "    print(f\"{sentence} \\n   ///{sentence.sentiment}\")"
   ]
  },
  {
   "cell_type": "markdown",
   "metadata": {
    "id": "Q4aLNonV5wap"
   },
   "source": [
    "Be sure to save and exit your Jupyter Notebook and Shutdown Jupyter Lab (from the __File__ menu) if using Ananconda before you submit your notebook on Blackboard for grading. If using Colab, be sure to Download (from the __File__ menu) back to your local file system before submitting to Blackboard.\n",
    "Make sure you don't submit the empty starting notebook by accident."
   ]
  }
 ],
 "metadata": {
  "colab": {
   "collapsed_sections": [],
   "name": "Lab9.ipynb",
   "provenance": []
  },
  "kernelspec": {
   "display_name": "Python 3 (ipykernel)",
   "language": "python",
   "name": "python3"
  },
  "language_info": {
   "codemirror_mode": {
    "name": "ipython",
    "version": 3
   },
   "file_extension": ".py",
   "mimetype": "text/x-python",
   "name": "python",
   "nbconvert_exporter": "python",
   "pygments_lexer": "ipython3",
   "version": "3.12.3"
  }
 },
 "nbformat": 4,
 "nbformat_minor": 4
}
