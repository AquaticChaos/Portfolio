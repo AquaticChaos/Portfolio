{
 "cells": [
  {
   "cell_type": "markdown",
   "metadata": {
    "id": "g6YXO5CuvEtt"
   },
   "source": [
    "# CIS 443-01 - Analytics Programming\n",
    "## Lab 6\n",
    "__Grading ID__: KP0000 (double click the cell in Jupyter to edit, find ID in Blackboard Gradebook)<br>\n",
    "__Due__: Monday, March 6 (by 11:59 PM)<br />\n",
    "__Worth__: 25 pts."
   ]
  },
  {
   "cell_type": "markdown",
   "metadata": {
    "id": "B6sRXvrTvEtv"
   },
   "source": [
    "### Directions\n",
    "**Exercise 6.7, p. 235 (Character Counts)** Recall that strings are sequences of characters. Use techniques similar to **Fig. 6.2** to write a script that inputs a sentence from the user, then uses a dictionary to summarize the number of occurrences of each letter. Ignore case, ignore blanks, and assume the user does not enter any punctuation (or you can just count the characters that are letters). Display a two-column table of the letters and their counts with the letters in sorted order. Finally, use a `set` operation to determine which letters of the alphabet were not in the original string and print this result, as well. Test your source code and save your work before submission.<br>\n",
    "**Hint**: It will be helpful to have a string variable with all the lowercase or uppercase letters to determine which letters of the alphabet were not in the entered string. Luckily, Python provides such strings in the `string` module as <a href=\"https://docs.python.org/3/library/string.html#string.ascii_lowercase\" target=\"_blank\">`string.ascii_lowercase`</a> and <a href=\"https://docs.python.org/3/library/string.html#string.ascii_uppercase\" target=\"_blank\">`string.ascii_uppercase`</a>. Then you can use set difference to answer the last part of the assignment.\n"
   ]
  },
  {
   "cell_type": "code",
   "execution_count": 197,
   "metadata": {
    "id": "8cS_2x47vEty"
   },
   "outputs": [
    {
     "name": "stdin",
     "output_type": "stream",
     "text": [
      "Please enter a sentence: p\n"
     ]
    },
    {
     "name": "stdout",
     "output_type": "stream",
     "text": [
      "Letter      Count\n",
      "--------  -------\n",
      "d               1\n",
      "e               1\n",
      "h               1\n",
      "l               3\n",
      "o               2\n",
      "r               1\n",
      "w               1\n",
      "\n",
      "The following letters don't appear in the sentence:\n",
      "a b c f g i j k m n p q s t u v x y z\n"
     ]
    }
   ],
   "source": [
    "# Put Lab 6 Code Here\n",
    "import string\n",
    "from tabulate import tabulate\n",
    "\n",
    "letterDict = {} #Create blank dictionary\n",
    "\n",
    "#Ask for user input, or use one of the default sentences if enabled\n",
    "stringInput = input(\"Please enter a sentence:\")\n",
    "\n",
    "#stringInput = 'The quick brown fox jumps over the lazy dog'\n",
    "#stringInput = 'Hello world!'\n",
    "\n",
    "for i in stringInput: #Loop through inputted string\n",
    "    if i.lower() in string.ascii_lowercase: #If current character is a letter...\n",
    "        if i.lower() in letterDict: #If current letter is already in dictionary...\n",
    "            letterDict[i.lower()] += 1 #Increment its count by one\n",
    "        else:\n",
    "            letterDict[i.lower()] = 1 #Add letter to dioctinary, set its starting count to one\n",
    "    else: #Else...\n",
    "        continue #Do nothing, move onto the next character\n",
    "\n",
    "letterSort = sorted(letterDict.items()) #Sort the list of items\n",
    "\n",
    "print(tabulate(letterSort, headers=[\"Letter\",\"Count\"])) #Create a two-column table\n",
    "\n",
    "letterMissing = set(string.ascii_lowercase) - set(letterDict.keys()) #Get the difference of lowercase letters (letters not in input)\n",
    "\n",
    "print(f\"\\nThe following letters don't appear in the sentence:\")\n",
    "print(*sorted(letterMissing)) #Print the letters that don't appear in the input, if any"
   ]
  },
  {
   "cell_type": "markdown",
   "metadata": {
    "id": "TjAb_IeFvEt0"
   },
   "source": [
    "Be sure to save and exit your Jupyter Notebook and Shutdown Jupyter Lab (from the __File__ menu) if using Ananconda before you submit your notebook on Blackboard for grading. If using Colab, be sure to Download (from the __File__ menu) back to your local file system before submitting to Blackboard.\n",
    "Make sure you don't submit the empty starting notebook by accident."
   ]
  },
  {
   "cell_type": "code",
   "execution_count": null,
   "metadata": {},
   "outputs": [],
   "source": []
  }
 ],
 "metadata": {
  "colab": {
   "collapsed_sections": [],
   "provenance": []
  },
  "kernelspec": {
   "display_name": "Python 3 (ipykernel)",
   "language": "python",
   "name": "python3"
  },
  "language_info": {
   "codemirror_mode": {
    "name": "ipython",
    "version": 3
   },
   "file_extension": ".py",
   "mimetype": "text/x-python",
   "name": "python",
   "nbconvert_exporter": "python",
   "pygments_lexer": "ipython3",
   "version": "3.12.3"
  }
 },
 "nbformat": 4,
 "nbformat_minor": 4
}
