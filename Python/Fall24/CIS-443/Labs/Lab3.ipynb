{
 "cells": [
  {
   "cell_type": "markdown",
   "metadata": {
    "id": "lN1bE03duXEt"
   },
   "source": [
    "# CIS 443-01 - Analytics Programming\n",
    "## Lab 3\n",
    "__Due__: Wednesday, September 25 (by 11:59 PM)<br />\n",
    "__Worth__: 25 pts."
   ]
  },
  {
   "cell_type": "markdown",
   "metadata": {
    "id": "P2g2ldwsuXEx"
   },
   "source": [
    "### Directions\n",
    "Exercise 4.9, p. 152 (Temperature Conversion) Implement a `fahrenheit` function that returns the Fahrenheit equivalent of a Celsius temperature. Use the following formula:<br />\n",
    "F = (9 / 5) * C + 32<br />\n",
    "Use this function to print a chart showing the Fahrenheit equivalents of all Celsius temperatures in the range 0–100 degrees. Use one digit of precision for the results. Print the outputs in a neat tabular format.<br />\n",
    "__Note__: Feel free to change the function's name to something more verb-oriented, such as `convert_C_to_F`. The function should only return the calculated Fahrenheit temperature - it is not asked to print the value. The output table is printed in the application code by calling the function repeatedly from within a counter-controlled loop.\n"
   ]
  },
  {
   "cell_type": "code",
   "execution_count": 1,
   "metadata": {
    "id": "BT0x-iUNuXEy"
   },
   "outputs": [],
   "source": [
    "from tabulate import tabulate #Import tabulate library for table\n",
    "\n",
    "def fahrenheit(celsius): #Function to convert celsius to fahrenheit\n",
    "    return round((9 / 5) * celsius + 32, 1)\n",
    "\n",
    "calcList = [] #Create list for table\n",
    "\n",
    "for i in range(0,100+1, 1): #Loop 100 times\n",
    "    newRow = [i, fahrenheit(i)] \n",
    "    calcList.append(newRow) #Append the created row to the list\n",
    "\n",
    "print(tabulate(calcList, headers=[\"Celsius\",\"Fahrenheit\"])) #Print the full table with headers"
   ]
  },
  {
   "cell_type": "markdown",
   "metadata": {
    "id": "q8s79p9EuXEz"
   },
   "source": [
    "Be sure to save and exit your Jupyter Notebook and Shutdown Jupyter Lab (from the __File__ menu) if using Ananconda before you submit your notebook on Blackboard for grading. If using Colab, be sure to Download (from the __File__ menu) back to your local file system before submitting to Blackboard.\n",
    "Make sure you don't submit the empty starting notebook by accident."
   ]
  }
 ],
 "metadata": {
  "colab": {
   "collapsed_sections": [],
   "provenance": []
  },
  "kernelspec": {
   "display_name": "Python 3 (ipykernel)",
   "language": "python",
   "name": "python3"
  },
  "language_info": {
   "codemirror_mode": {
    "name": "ipython",
    "version": 3
   },
   "file_extension": ".py",
   "mimetype": "text/x-python",
   "name": "python",
   "nbconvert_exporter": "python",
   "pygments_lexer": "ipython3",
   "version": "3.12.3"
  }
 },
 "nbformat": 4,
 "nbformat_minor": 4
}
