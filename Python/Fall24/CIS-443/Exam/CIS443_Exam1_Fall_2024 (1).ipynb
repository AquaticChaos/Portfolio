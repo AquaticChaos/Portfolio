{
 "cells": [
  {
   "cell_type": "markdown",
   "metadata": {
    "id": "IBHWnRDP2Y-Q",
    "tags": []
   },
   "source": [
    "# CIS 443-01 Exam 1 Notebook\n",
    "## 100 pts.\n",
    "## Directions\n",
    "1. Answer the question in the cell provided.\n",
    "1. When finished, save your work, close the Jupyter Lab file, and Shut Down Jupyter Lab. You will upload this Jupyter Notebook file as your submission to Question 1 in Exam 1 in Blackboard.\n",
    "1. Be sure to keep an unaltered version of this file just in case anything goes wrong in Blackboard. If you aren't working from your own computer, upload a copy to OneDrive or other cloud storage and do not modify it.\n"
   ]
  },
  {
   "cell_type": "markdown",
   "metadata": {},
   "source": [
    "# Concept Questions"
   ]
  },
  {
   "cell_type": "markdown",
   "metadata": {},
   "source": [
    "### Question 1\n",
    "\n",
    "Give an overview of Lists, Tuples, and Strings, highlighting similarities and differences in their nature as collections"
   ]
  },
  {
   "cell_type": "raw",
   "metadata": {},
   "source": [
    "Lists, tuples, and strings are the three most common interpretations of sequences in Python, all of which being able to iterate through one-by-one.\n",
    "Strings are made solely of individual characters, whereas lists and tuples can contain any values- including functions!\n",
    "Unlike lists, values in a tuple cannot be individually modified after creation"
   ]
  },
  {
   "cell_type": "markdown",
   "metadata": {},
   "source": [
    "### Question 2\n",
    "\n",
    "For loops work by targeting an item in an iterator. What kinds of things are valid iterators? What happens if the iterator is empty?"
   ]
  },
  {
   "cell_type": "raw",
   "metadata": {},
   "source": [
    "Valid iterators for the purpose of for-loops include the range function (minimum inclusive, maximum exclusive, step count), strings (in this case, going letter-by-letter), and lists/tuples. If the iterator is empty, the for-loop won't give an error, but will simply not run at all."
   ]
  },
  {
   "cell_type": "markdown",
   "metadata": {},
   "source": [
    "### Question 3\n",
    "\n",
    "Explain the use of the return statement in Python. What happens when we use it? What happens to code written after it? When happens when we don't use it? Can it give multiple values?"
   ]
  },
  {
   "cell_type": "raw",
   "metadata": {},
   "source": [
    "The return statement in Python essentially tells the program to stop what it's doing and (if one exists) pass a value along. Any code following the return statement will be skipped entirely, with most user-defined functions using the return statement to pass the value along. Not using the return statement will continue running any code following it. Multiple values CAN be passed along, but it requires a list/tuple or multiple variables on the recieving end."
   ]
  },
  {
   "cell_type": "markdown",
   "metadata": {},
   "source": [
    "### Question 4\n",
    "\n",
    "Explain what unpacking a sequence means. What sequences can we unpack? Can we repack things back into a sequence, and if so, what type of sequence? "
   ]
  },
  {
   "cell_type": "raw",
   "metadata": {},
   "source": [
    "Unpacking a sequence means taking a list/tuple of variables (strings, individual characters, numbers, etc.) and individually assigning them to variables at once. It is possible to repack them into a tuple sequence."
   ]
  },
  {
   "cell_type": "markdown",
   "metadata": {},
   "source": [
    "### Question 5\n",
    "\n",
    "How are strings sorted in python? What key isssue emerges when applying a sort against an untransformed list of strings? How did we get around that issue?"
   ]
  },
  {
   "cell_type": "raw",
   "metadata": {},
   "source": [
    "String are sorted in Python by hex values- the same values used elsewhere digitally. The primary issue that emerges when sorting an untransformed list of strings is that some characters don't naturally translate into a sorted list."
   ]
  },
  {
   "cell_type": "markdown",
   "metadata": {},
   "source": [
    "### Question 6\n",
    "\n",
    "Are lists capable of storing heterogenous, or homogenous data? Conceptually, which of the two applies to lists?"
   ]
  },
  {
   "cell_type": "raw",
   "metadata": {},
   "source": [
    "Lists are capable of storing both heterogeneous (different type) and homogenous (same type) in Python."
   ]
  },
  {
   "cell_type": "markdown",
   "metadata": {},
   "source": [
    "### Question 7\n",
    "\n",
    "What problems can emerge without careful naming of our variables in python? In class we explained two ways to undo this damage, should it be caused. Explain at least one of them."
   ]
  },
  {
   "cell_type": "raw",
   "metadata": {},
   "source": [
    "Without careful naming of our variables in Python, it's possible to accidentally override a pre-built variable that we may have imported from a module or library (such as \"pi\"). One of the two ways of undoing this damage is selecting the \"Restart the kennel\" option along the top, resetting any and all variables that have been called or defined."
   ]
  },
  {
   "cell_type": "markdown",
   "metadata": {},
   "source": [
    "### Question 8\n",
    "\n",
    "Explain the 3 parts of the range function. How did this compare to the parts we used for slicing? What was the difference of copying a list, versus copying a list slice?"
   ]
  },
  {
   "cell_type": "raw",
   "metadata": {},
   "source": [
    "The three parts of the range function are the start value (inclusive), end value (exclusive), and the step count. Note that it's possible to count up AND down. With slicing, both the start and end values are inclusive.\n",
    "The difference between copying a list and copying a list slice is that the latter recreates the list entirely, creating a seperate reference from the original"
   ]
  },
  {
   "cell_type": "markdown",
   "metadata": {},
   "source": [
    "### Question 9\n",
    "\n",
    "What technique in Python allowed us to transform the values in a list and apply criteria to the values in a list? What differentiated it from a generator expression?"
   ]
  },
  {
   "cell_type": "raw",
   "metadata": {},
   "source": [
    "In order to transform the values in a list and apply criteria to said values, we used the map function. Generator expressions, unlike the map function, are lazy functions- they only ever act when they're explicitly told to"
   ]
  },
  {
   "cell_type": "markdown",
   "metadata": {},
   "source": [
    "### Question 10\n",
    "\n",
    "Generator expressions do not directly store data into memory. What do they store instead? What happens to an item in a generator expression once it has been processed?"
   ]
  },
  {
   "cell_type": "raw",
   "metadata": {},
   "source": [
    "Generator expressions, rather than store data into memory, instead stores an iterator object that can be looped through as needed or transformed into a list/tuple. Once an item has been processed in a generator expression, it's kept in the iterator object and cannot be directly pulled out of without first making it a list."
   ]
  },
  {
   "cell_type": "markdown",
   "metadata": {},
   "source": [
    "### Question 11\n",
    "\n",
    "Explain what the enumerate function returns, and what data type this return is structured as."
   ]
  },
  {
   "cell_type": "raw",
   "metadata": {},
   "source": [
    "The enumerate function will iterate through a list of items and output a generator object where each value in the list is paired with their index value starting from 0."
   ]
  },
  {
   "cell_type": "markdown",
   "metadata": {},
   "source": [
    "### EXTRA CREDIT\n",
    "\n",
    "Explain the difference between using _import SampleLibrary_ and _from SampleLibrary import *_"
   ]
  },
  {
   "cell_type": "raw",
   "metadata": {},
   "source": [
    "With \"import SampleLibrary,\" it will import the base library but not any of the modules inside. Those will still have to be called via \"SampleLibrary.module\"\n",
    "With \"from SampleLibrary import *,\" it will import ALL modules inside the base library, and can be called via just \"module\". Due note that the latter is not recommended as previously mentioned in Question 7"
   ]
  },
  {
   "cell_type": "markdown",
   "metadata": {},
   "source": [
    "# Code Fragments"
   ]
  },
  {
   "cell_type": "markdown",
   "metadata": {},
   "source": [
    "### Problem 1\n",
    "Write a Python code fragment in the code cell below that defines a function named `calc_decibels` that accepts power ratio (a float) as the parameter and returns the Decibel Rating (10 * log base 10(power ratio)). Test the function with the following inputs: (4.0) and (50.0). \n",
    "\n"
   ]
  },
  {
   "cell_type": "code",
   "execution_count": 12,
   "metadata": {},
   "outputs": [
    {
     "name": "stdout",
     "output_type": "stream",
     "text": [
      "6.020599913279623\n",
      "16.989700043360184\n"
     ]
    }
   ],
   "source": [
    "import math\n",
    "#hint - use math.log(number, base)\n",
    "def calc_decibels(powRatio):\n",
    "    return 10 * math.log(float(powRatio), 10)\n",
    "\n",
    "print(calc_decibels(4.0))\n",
    "print(calc_decibels(50.0))"
   ]
  },
  {
   "cell_type": "markdown",
   "metadata": {},
   "source": [
    "### Problem 2\n",
    "Write a Python code fragment in the code cell below that prints the factors of 5 (each on a separate line) from 2005 - 2050 (inclusive). Use whichever loop you prefer. "
   ]
  },
  {
   "cell_type": "code",
   "execution_count": 9,
   "metadata": {},
   "outputs": [
    {
     "name": "stdout",
     "output_type": "stream",
     "text": [
      "2005\n",
      "2010\n",
      "2015\n",
      "2020\n",
      "2025\n",
      "2030\n",
      "2035\n",
      "2040\n",
      "2045\n",
      "2050\n"
     ]
    }
   ],
   "source": [
    "for i in range(2005, 2051, 5):\n",
    "    print(i, sep=\", \")"
   ]
  },
  {
   "cell_type": "markdown",
   "metadata": {},
   "source": [
    "### Problem 3\n",
    "Write a Python code fragment in the code cell below that collects input about the UPF Rating of Clothing (an integer) and outputs the Protection category using a series of `if` statements. If UPF is 14 or less, print \"No Solar Protection.\" If 15 thru 29, print \"Minimum.\" If 30 thru 49, print \"Good.\" If 50 or more, print \"Excellent.\" If UPF is over 40, print \"Under 3% transmission\", and if UPF is over 20, print \"Under 5% transmission\". End each phrase with a period and a newline.\n",
    "\n",
    "Sample output for input: 35\n",
    "\n",
    "`Good.`<br />\n",
    "`Under 5% Transmission.`"
   ]
  },
  {
   "cell_type": "code",
   "execution_count": 21,
   "metadata": {},
   "outputs": [
    {
     "name": "stdin",
     "output_type": "stream",
     "text": [
      "Please enter the UPF Rating of Clothing 35\n"
     ]
    },
    {
     "name": "stdout",
     "output_type": "stream",
     "text": [
      "Good.\n",
      "\n",
      "Under 5% transmission.\n",
      "\n"
     ]
    }
   ],
   "source": [
    "uPF = int(input(\"Please enter the UPF Rating of Clothing\"))\n",
    "if(uPF <= 14):\n",
    "    print(\"No Solar Protection.\\n\")\n",
    "elif (uPF >= 15 and uPF <= 29):\n",
    "    print(\"Minimum.\")\n",
    "elif (uPF >= 30 and uPF <= 49):\n",
    "    print(\"Good.\\n\")\n",
    "elif (uPF >= 50):\n",
    "    print(\"Excellent.\\n\")\n",
    "\n",
    "if (uPF > 40):\n",
    "    print(\"Under 3% transmission.\\n\")\n",
    "elif (uPF > 20):\n",
    "    print(\"Under 5% transmission.\\n\")"
   ]
  },
  {
   "cell_type": "markdown",
   "metadata": {},
   "source": [
    "### Problem 4\n",
    "Write python code to import the statistics package, and use to take the mean of a list of your creation."
   ]
  },
  {
   "cell_type": "code",
   "execution_count": 63,
   "metadata": {},
   "outputs": [
    {
     "data": {
      "text/plain": [
       "500.2"
      ]
     },
     "execution_count": 63,
     "metadata": {},
     "output_type": "execute_result"
    }
   ],
   "source": [
    "import statistics\n",
    "myList = (3, 46, 395, 2035, 22)\n",
    "s.mean(myList)"
   ]
  },
  {
   "cell_type": "markdown",
   "metadata": {},
   "source": [
    "### Problem 5\n",
    "Write a Python code fragment in the code cell below that removes negative numbers from the list below. Then output the minimum value, maximum value, and average (mean) value each on a separate line."
   ]
  },
  {
   "cell_type": "code",
   "execution_count": 69,
   "metadata": {},
   "outputs": [
    {
     "name": "stdout",
     "output_type": "stream",
     "text": [
      "Minimum: 5\n",
      "Maximum: 78\n",
      "Average: 32.285714285714285\n"
     ]
    }
   ],
   "source": [
    "import statistics \n",
    "\n",
    "def positive_number(num):\n",
    "    if (num >= 0):\n",
    "        return True\n",
    "    else:\n",
    "        return False\n",
    "    \n",
    "start_list = [-45, 10, 56, 78, -103, 38, 29, -4, 5, 10]\n",
    "filterList = list(filter(positive_number, start_list))\n",
    "print(f\"Minimum: {min(filterList)}\\nMaximum: {max(filterList)}\\nAverage: {s.mean(filterList)}\")"
   ]
  },
  {
   "cell_type": "markdown",
   "metadata": {},
   "source": [
    "# Coding Problem"
   ]
  },
  {
   "cell_type": "markdown",
   "metadata": {
    "id": "rCCy_Qs62Y-W"
   },
   "source": [
    "Write a Python code fragment in the code cell below that defines a function named `count_evens` that accepts a single parameter, `a_list`, a list of any length, and returns an integer (0+). Count any number which is divisible by 2. There are many ways that this determination can be made but strive to find a solution that is both _correct_ and _efficient_.\n",
    "\n",
    "Code to test your function has been provided at the bottom of the code cell below. It should not be modified.\n"
   ]
  },
  {
   "cell_type": "code",
   "execution_count": 85,
   "metadata": {
    "id": "C2ixnsej2Y-X"
   },
   "outputs": [
    {
     "name": "stdout",
     "output_type": "stream",
     "text": [
      "[1, 4, 10, 13, 29, 28, 35, 49, 50], Number of Evens: 4\n",
      "[-14, 2, 8, 99], Number of Evens: 3\n"
     ]
    }
   ],
   "source": [
    "# Put function definition for count_evens here\n",
    "def count_evens(number):\n",
    "    count = 0\n",
    "    for i in number:\n",
    "        if(i % 2 == 0):\n",
    "            count += 1\n",
    "    return count\n",
    "\n",
    "# Do not modify the code below\n",
    "list1 = [1,4,10,13,29,28,35,49,50]\n",
    "print(f'{list1}, Number of Evens: {count_evens(list1)}')\n",
    "list2 = [-14,2,8,99]\n",
    "print(f'{list2}, Number of Evens: {count_evens(list2)}') "
   ]
  },
  {
   "cell_type": "markdown",
   "metadata": {
    "id": "AaQN0RboB7Wm"
   },
   "source": [
    "Be sure to save and exit your Jupyter Notebook and Shutdown Jupyter Lab (from the __File__ menu) if using Ananconda before you submit your notebook on Blackboard for grading. If using Colab, be sure to Download (from the __File__ menu) back to your local file system before submitting to Blackboard.\n",
    "Make sure you don't submit the empty starting notebook by accident."
   ]
  }
 ],
 "metadata": {
  "colab": {
   "collapsed_sections": [],
   "name": "CIS443_Exam1_Part3.ipynb",
   "provenance": []
  },
  "kernelspec": {
   "display_name": "Python 3 (ipykernel)",
   "language": "python",
   "name": "python3"
  },
  "language_info": {
   "codemirror_mode": {
    "name": "ipython",
    "version": 3
   },
   "file_extension": ".py",
   "mimetype": "text/x-python",
   "name": "python",
   "nbconvert_exporter": "python",
   "pygments_lexer": "ipython3",
   "version": "3.12.3"
  }
 },
 "nbformat": 4,
 "nbformat_minor": 4
}
