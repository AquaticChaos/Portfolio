{
 "cells": [
  {
   "cell_type": "markdown",
   "metadata": {
    "id": "IBHWnRDP2Y-Q",
    "tags": []
   },
   "source": [
    "# CIS 443-01 Exam 2 Notebook\n",
    "## 100 pts.\n",
    "## Directions\n",
    "1. Answer the question in the cell provided.\n",
    "1. When finished, save your work, close the Jupyter Lab file, and Shut Down Jupyter Lab. You will upload this Jupyter Notebook file as your submission to Question 1 in Exam 2 in Blackboard.\n",
    "1. Be sure to keep an unaltered version of this file just in case anything goes wrong in Blackboard. If you aren't working from your own computer, upload a copy to OneDrive or other cloud storage and do not modify it.\n"
   ]
  },
  {
   "cell_type": "markdown",
   "metadata": {},
   "source": [
    "# Concept Questions"
   ]
  },
  {
   "cell_type": "markdown",
   "metadata": {},
   "source": [
    "### Question 1\n",
    "\n",
    "How does a list differ from a Numpy Array? Make sure to address data types and copying."
   ]
  },
  {
   "cell_type": "raw",
   "metadata": {},
   "source": [
    "A NumPy Array's length is set to a fixed amount, with each value inside the array stored in a pre-set location of memory adjacent to one another. A list's length is flexible and not constant so that values can be added and removed when necessary- but said values are stored in different locations of memory, each individual value pointing to the next value's location in the list.\n",
    "Lists, likewise, can accept any variety of data types while arrays must be all the same.\n",
    "Copying a list creates a shallow copy - that is, it recreates the list with entirely seperate locations in memory. Copying an array creates a deep copy- it points to the original array, and if the copy is edited so will the original."
   ]
  },
  {
   "cell_type": "markdown",
   "metadata": {},
   "source": [
    "### Question 2\n",
    "\n",
    "Why do Pandas Series+Dataframes, and Numpy Arrays have so much in common? What underlying language do they get this functionality from?"
   ]
  },
  {
   "cell_type": "raw",
   "metadata": {},
   "source": [
    "Pandas' Series and Dataframes, and Numpy's Arrays share so many common traits because they both follow the functionality from the JavaScript language."
   ]
  },
  {
   "cell_type": "markdown",
   "metadata": {},
   "source": [
    "### Question 3\n",
    "\n",
    "What flat file format did we discuss for handling data transfers into our scripts? Why was it better than .txt data? What was a drawback?"
   ]
  },
  {
   "cell_type": "raw",
   "metadata": {},
   "source": [
    "The flat file format as discussed for handling data transfer into our scripts was .csv files.\n",
    "Compared to .txt files, .csv files are more robust in handling databases of items at the cost of meomry leaks if not properly disposed of after use."
   ]
  },
  {
   "cell_type": "markdown",
   "metadata": {},
   "source": [
    "### Question 4\n",
    "\n",
    "What is meant by sentiment of a body of text? What about polarity? What was the scale (of the algorithm that we used) of each, and what did the scale mean?"
   ]
  },
  {
   "cell_type": "raw",
   "metadata": {},
   "source": [
    "The sentiment of a body of text refers to specific subjects that are of focus.\n",
    "The polarity of a body of text refers to whether it gives a positive or negative connotation.\n",
    "The scale of the two means that one can create programs that reads the body of text and determines how best it can be summarized and compared to other similar bodies of text (i.e. review systems)."
   ]
  },
  {
   "cell_type": "markdown",
   "metadata": {},
   "source": [
    "### Question 5\n",
    "\n",
    "Describe the difference between a shallow copy of a collection and a deep copy."
   ]
  },
  {
   "cell_type": "raw",
   "metadata": {},
   "source": [
    "A shallow copy of a collection only copies the direct data contained, creating an entirely seperate collection with a different location in memory (changing one will not affect the other).\n",
    "A deep copy of a collection copies the direct data AND the location in memory of said data- so that changing one WILL affect the other."
   ]
  },
  {
   "cell_type": "markdown",
   "metadata": {},
   "source": [
    "### Question 6\n",
    "\n",
    "What were the 4 code blocks of exception managment? Explain the role of each. Which one is typically repeated within one try structure?"
   ]
  },
  {
   "cell_type": "raw",
   "metadata": {},
   "source": [
    "The four code blocks of exception management are as follows:\n",
    "Try: Attempt the code contained inside.\n",
    "Except: If an exception occurs with the Try block, it stops and goes straight here to perform whatever code is contained. The catch block requires a type of exception that it'll catch, and it can catch more than one type of exception by adding more Catch blocks.\n",
    "Else: If no exceptions occur in the Try block, it moves here after completion and completes the code contained. \n",
    "Finally: Regardless of whether an exception(s) is thrown, the code here is performed. Useful for cleanup such as when dealing with .txt / .csv files."
   ]
  },
  {
   "cell_type": "markdown",
   "metadata": {},
   "source": [
    "### Question 7\n",
    "\n",
    "If we predominantly use CSV files for transmitting information in flat files, what was the use case for JSON? What does it have in common with XML?"
   ]
  },
  {
   "cell_type": "raw",
   "metadata": {},
   "source": [
    "The use case for JSON is the following:\n",
    "Curly brackets {} contain the whole list, and from there largely follows how it otherwise does with XML. For example:\n",
    "\n",
    "{\n",
    "    ['Name': 'Abraham', 'Grades': [87, 95, 68]] ,\n",
    "    ['Name' : 'Becky', 'Grades': [78, 50, 100]]\n",
    "}"
   ]
  },
  {
   "cell_type": "markdown",
   "metadata": {},
   "source": [
    "### Question 8\n",
    "\n",
    "A linear regression model is rooted in `y=mx+b` - explain each part of this equation, in terms of relevance to linear regression and real world meaning."
   ]
  },
  {
   "cell_type": "raw",
   "metadata": {},
   "source": [
    "The linear regression model - \"y = mx + b\" goes as follows:\n",
    "Y is the dependent variable. It relies on the other parts of the equation to determine its value.\n",
    "X is the independent variable. We know what it can/will be.\n",
    "M is the slope variable. For every increase in X by one, Y will increase by the value of M\n",
    "B is the coefficient variable. This is the default starting point of the model, in other words what Y would equal when X is zero."
   ]
  },
  {
   "cell_type": "markdown",
   "metadata": {},
   "source": [
    "### Question 9\n",
    "\n",
    "Explain what the r^2 value and the p value mean in terms of a data model, such as linear regression. What is a 'good' value for each?"
   ]
  },
  {
   "cell_type": "raw",
   "metadata": {},
   "source": [
    "The r^2 value determines how much of the data is explained by potential variation ranging from 0 to 1. A good value will typically be at the higher-end (greater than 0.5).\n",
    "The p value determines how strong the relationship between the (in)dependent variables are ranging from 0 to 1. A good value, in constrat, will typically be at the lower-end (less than 0.05)."
   ]
  },
  {
   "cell_type": "markdown",
   "metadata": {},
   "source": [
    "### Question 10\n",
    "\n",
    "Explain the 4 set operators: union, difference, intersect, and symmetric difference. "
   ]
  },
  {
   "cell_type": "raw",
   "metadata": {},
   "source": [
    "The four set operators are as follows:\n",
    "Union: The result is the combination of both collections, removing any duplicates. \n",
    "(Ex. [1, 2, 3] and [3, 4, 5] -> [1, 2, 3, 4, 5])\n",
    "Difference: The result is the first collection excluding values in the second collection. The order DOES matter.\n",
    "(Ex. [1, 2, 3] - [3, 4, 5] = [1, 2] / [3, 4, 5] - [1, 2, 3] = [4, 5])\n",
    "Intersect: The result is the values that appear in both collections.\n",
    "(Ex. [1, 2, 3] and [3, 4, 5] -> [3])\n",
    "Symmetric Difference: The result is the values that DON'T appear in both collections. Inverse of interesect.\n",
    "(Ex. [1, 2, 3] and [3, 4, 5] -> [1, 2, 4, 5])"
   ]
  },
  {
   "cell_type": "markdown",
   "metadata": {},
   "source": [
    "### Question 11\n",
    "\n",
    "Explain a real world use for natural language process, anything that you choose. "
   ]
  },
  {
   "cell_type": "raw",
   "metadata": {},
   "source": [
    "An example of how natural language processes can be used in the real world would be through review systems. Customers can provide feedback on a product/service (in this example, a paragraph of text with or without a flat rating of 1-5, 1-10, 1-100, etc.). Said feedback is stored in a database and, with natural language processing, it can be determined overall what is good/bad as well as what in particular should be focused on. This is all through reading the sentiment, polarity, and scale of the text as previousy mentioned."
   ]
  },
  {
   "cell_type": "markdown",
   "metadata": {},
   "source": [
    "# Code Fragments"
   ]
  },
  {
   "cell_type": "markdown",
   "metadata": {},
   "source": [
    "### Problem 1\n",
    "Write a Python code fragment in the code cell below that uses pandas to load the csv file which was attached to the exam. Print the head of the dataframe. \n",
    "\n"
   ]
  },
  {
   "cell_type": "code",
   "execution_count": 5,
   "metadata": {},
   "outputs": [
    {
     "name": "stdout",
     "output_type": "stream",
     "text": [
      "   Index      Customer Id First Name Last Name  \\\n",
      "0      1  DD37Cf93aecA6Dc     Sheryl    Baxter   \n",
      "1      2  1Ef7b82A4CAAD10    Preston    Lozano   \n",
      "2      3  6F94879bDAfE5a6        Roy     Berry   \n",
      "3      4  5Cef8BFA16c5e3c      Linda     Olsen   \n",
      "4      5  053d585Ab6b3159     Joanna    Bender   \n",
      "\n",
      "                           Company               City  \\\n",
      "0                  Rasmussen Group       East Leonard   \n",
      "1                      Vega-Gentry  East Jimmychester   \n",
      "2                    Murillo-Perry      Isabelborough   \n",
      "3  Dominguez, Mcmillan and Donovan         Bensonview   \n",
      "4         Martin, Lang and Andrade     West Priscilla   \n",
      "\n",
      "                      Country                 Phone 1                Phone 2  \\\n",
      "0                       Chile            229.077.5154       397.884.0519x718   \n",
      "1                    Djibouti              5153435776       686-620-1820x944   \n",
      "2         Antigua and Barbuda         +1-539-402-0259    (496)978-3969x58947   \n",
      "3          Dominican Republic  001-808-617-6467x12895        +1-813-324-8756   \n",
      "4  Slovakia (Slovak Republic)  001-234-203-0635x76146  001-199-446-3860x3486   \n",
      "\n",
      "                         Email Subscription Date                      Website  \n",
      "0     zunigavanessa@smith.info        2020-08-24   http://www.stephenson.com/  \n",
      "1              vmata@colon.com        2021-04-23        http://www.hobbs.com/  \n",
      "2          beckycarr@hogan.com        2020-03-25     http://www.lawrence.com/  \n",
      "3  stanleyblackwell@benson.org        2020-06-02   http://www.good-lyons.com/  \n",
      "4      colinalvarado@miles.net        2021-04-17  https://goodwin-ingram.com/  \n"
     ]
    }
   ],
   "source": [
    "import pandas as pd\n",
    "file = pd.read_csv('cust.csv')\n",
    "print(file.head())"
   ]
  },
  {
   "cell_type": "markdown",
   "metadata": {},
   "source": [
    "### Problem 2\n",
    "Create a blob for the included string, and display the sentiment analysis for the text. "
   ]
  },
  {
   "cell_type": "code",
   "execution_count": 29,
   "metadata": {},
   "outputs": [
    {
     "ename": "ModuleNotFoundError",
     "evalue": "No module named 'textblob'",
     "output_type": "error",
     "traceback": [
      "\u001b[1;31m---------------------------------------------------------------------------\u001b[0m",
      "\u001b[1;31mModuleNotFoundError\u001b[0m                       Traceback (most recent call last)",
      "Cell \u001b[1;32mIn[29], line 1\u001b[0m\n\u001b[1;32m----> 1\u001b[0m \u001b[38;5;28;01mimport\u001b[39;00m \u001b[38;5;21;01mtextblob\u001b[39;00m \u001b[38;5;28;01mas\u001b[39;00m \u001b[38;5;21;01mtb\u001b[39;00m\n\u001b[0;32m      3\u001b[0m sample_text \u001b[38;5;241m=\u001b[39m \u001b[38;5;124m'''\u001b[39m\u001b[38;5;124mO Captain! my Captain! our fearful trip is done,\u001b[39m\n\u001b[0;32m      4\u001b[0m \u001b[38;5;124mThe ship has weather’d every rack, the prize we sought is won,\u001b[39m\n\u001b[0;32m      5\u001b[0m \u001b[38;5;124mThe port is near, the bells I hear, the people all exulting,\u001b[39m\n\u001b[0;32m      6\u001b[0m \u001b[38;5;124mWhile follow eyes the steady keel, the vessel grim and daring;\u001b[39m\u001b[38;5;124m'''\u001b[39m\n\u001b[0;32m      8\u001b[0m sample_blob \u001b[38;5;241m=\u001b[39m tb\u001b[38;5;241m.\u001b[39mTextBlob(sample_text)\n",
      "\u001b[1;31mModuleNotFoundError\u001b[0m: No module named 'textblob'"
     ]
    }
   ],
   "source": [
    "import textblob as tb\n",
    "\n",
    "sample_text = '''O Captain! my Captain! our fearful trip is done,\n",
    "The ship has weather’d every rack, the prize we sought is won,\n",
    "The port is near, the bells I hear, the people all exulting,\n",
    "While follow eyes the steady keel, the vessel grim and daring;'''\n",
    "\n",
    "sample_blob = tb.TextBlob(sample_text)\n",
    "sample_sentiment = tb.Sentiment(sample_blob)\n",
    "\n",
    "print(f\"Sentiment Value: {sample_sentiment}\")\n"
   ]
  },
  {
   "cell_type": "markdown",
   "metadata": {},
   "source": [
    "### Problem 3\n",
    "Write a Python code fragment in the code cell below that catches `ValueError` and prints out a corresponding message to the user. Have it print out 'Application Finished' regardless of whether this exception occured or not, using the correct suite."
   ]
  },
  {
   "cell_type": "code",
   "execution_count": 25,
   "metadata": {},
   "outputs": [
    {
     "name": "stdout",
     "output_type": "stream",
     "text": [
      "Application Failed\n",
      "Application Finished\n"
     ]
    }
   ],
   "source": [
    "#your code here\n",
    "try:\n",
    "    bad_function()\n",
    "except ValueError:\n",
    "    print(\"Application Failed\")\n",
    "else:\n",
    "    print(\"Application Succeeded\")\n",
    "finally:\n",
    "    print(\"Application Finished\")\n",
    "\n",
    "#my code here\n",
    "def bad_function():\n",
    "    return int('ABC')"
   ]
  },
  {
   "cell_type": "markdown",
   "metadata": {},
   "source": [
    "### Problem 4\n",
    "Use arange and reshape to create a 5-by-4 ndarray containing the numbers 1–20 (inclusive of both endpoints). Use broadcasting to perform each of the following operations on the original array creating a new ndarray and printing its contents: (2 pts. each)\n",
    "\n",
    "    Use arange and reshape to create a 5-by-4 ndarray containing the numbers 1–20 (inclusive of both endpoints). Print the original array.\n",
    "    Use broadcasting to subtract 27 to every element of the original array. Print the resulting array.\n",
    "    Use broadcasting to multiply every element of the original array by 14. Print the resulting array."
   ]
  },
  {
   "cell_type": "code",
   "execution_count": 47,
   "metadata": {},
   "outputs": [
    {
     "name": "stdout",
     "output_type": "stream",
     "text": [
      "[[ 1  2  3  4]\n",
      " [ 5  6  7  8]\n",
      " [ 9 10 11 12]\n",
      " [13 14 15 16]\n",
      " [17 18 19 20]]\n",
      "[[-26 -25 -24 -23]\n",
      " [-22 -21 -20 -19]\n",
      " [-18 -17 -16 -15]\n",
      " [-14 -13 -12 -11]\n",
      " [-10  -9  -8  -7]]\n",
      "[[ 14  28  42  56]\n",
      " [ 70  84  98 112]\n",
      " [126 140 154 168]\n",
      " [182 196 210 224]\n",
      " [238 252 266 280]]\n"
     ]
    }
   ],
   "source": [
    "import numpy as np\n",
    "shapeArray = np.arange(1, 20+1).reshape(5, 4)\n",
    "print(shapeArray)\n",
    "print(shapeArray - 27)\n",
    "print(shapeArray * 14)"
   ]
  },
  {
   "cell_type": "markdown",
   "metadata": {},
   "source": [
    "### Problem 5\n",
    "Write a Python code fragment in the code cell below that inputs a line of text from the user, tokenizes the text using period characters as delimiters and outputs the tokens in reverse order. Use `'. '` sequences as delimiters. For example, \"Hello. Goodbye.\" becomes \"Goodbye. Hello.\""
   ]
  },
  {
   "cell_type": "code",
   "execution_count": 59,
   "metadata": {},
   "outputs": [
    {
     "name": "stdin",
     "output_type": "stream",
     "text": [
      "Please enter a line of text. a. b. c.\n"
     ]
    },
    {
     "name": "stdout",
     "output_type": "stream",
     "text": [
      ".c .b .a\n"
     ]
    }
   ],
   "source": [
    "user = input(\"Please enter a line of text.\")\n",
    "user.split(' ')\n",
    "print(user[::-1])"
   ]
  },
  {
   "cell_type": "markdown",
   "metadata": {},
   "source": [
    "# Coding Problem"
   ]
  },
  {
   "cell_type": "markdown",
   "metadata": {
    "id": "rCCy_Qs62Y-W"
   },
   "source": [
    "Write a Python code solution in the code cell below that performs a linear regression against the preimported data. Use the `GrLivArea` to predict `SalePrice`. Display and explain the r^2 and p values for the Living Area vs Price regression.\n"
   ]
  },
  {
   "cell_type": "code",
   "execution_count": 108,
   "metadata": {
    "id": "C2ixnsej2Y-X"
   },
   "outputs": [
    {
     "name": "stdout",
     "output_type": "stream",
     "text": [
      "R Squared: 0.5021486502718042 \n",
      "P Value: 4.518033646776791e-223\n",
      "\n",
      "      GrLivArea  SalePrice  Predicted SalePrice\n",
      "0          1710     208500        201761.939688\n",
      "1          1262     181500        153767.538871\n",
      "2          1786     223500        209903.846969\n",
      "3          1717     140000        202511.852201\n",
      "4          2198     250000        254041.554863\n",
      "...         ...        ...                  ...\n",
      "1455       1647     175000        195012.727073\n",
      "1456       2073     210000        240650.259993\n",
      "1457       2340     266500        269254.065837\n",
      "1458       1078     142125        134055.552822\n",
      "1459       1256     147500        153124.756718\n",
      "\n",
      "[1460 rows x 3 columns]\n"
     ]
    }
   ],
   "source": [
    "# Do not modify the code below\n",
    "import pandas as pd\n",
    "from scipy import stats\n",
    "data = pd.read_csv(r'https://raw.githubusercontent.com/laxmimerit/All-CSV-ML-Data-Files-Download/refs/heads/master/houseprice.csv')\n",
    "reduced_data = data[['GrLivArea', 'SalePrice']]\n",
    "reduced_data\n",
    "\n",
    "#your code here\n",
    "data_linreg = stats.linregress(reduced_data['GrLivArea'], reduced_data['SalePrice'])\n",
    "data_pSq = data_linreg.rvalue * data_linreg.rvalue\n",
    "print(f\"R Squared: {data_pSq} \\nP Value: {data_linreg.pvalue}\\n\")\n",
    "datafr = pd.DataFrame(reduced_data)\n",
    "datafr['Predicted SalePrice'] = datafr['GrLivArea'] * data_linreg.slope + data_linreg.intercept\n",
    "print(datafr)"
   ]
  },
  {
   "cell_type": "markdown",
   "metadata": {
    "id": "AaQN0RboB7Wm"
   },
   "source": [
    "Be sure to save and exit your Jupyter Notebook and Shutdown Jupyter Lab (from the __File__ menu) if using Ananconda before you submit your notebook on Blackboard for grading. If using Colab, be sure to Download (from the __File__ menu) back to your local file system before submitting to Blackboard.\n",
    "Make sure you don't submit the empty starting notebook by accident."
   ]
  }
 ],
 "metadata": {
  "colab": {
   "collapsed_sections": [],
   "name": "CIS443_Exam1_Part3.ipynb",
   "provenance": []
  },
  "kernelspec": {
   "display_name": "Python 3 (ipykernel)",
   "language": "python",
   "name": "python3"
  },
  "language_info": {
   "codemirror_mode": {
    "name": "ipython",
    "version": 3
   },
   "file_extension": ".py",
   "mimetype": "text/x-python",
   "name": "python",
   "nbconvert_exporter": "python",
   "pygments_lexer": "ipython3",
   "version": "3.12.3"
  }
 },
 "nbformat": 4,
 "nbformat_minor": 4
}
