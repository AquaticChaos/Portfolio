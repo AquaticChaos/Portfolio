{
 "cells": [
  {
   "cell_type": "markdown",
   "metadata": {
    "id": "IBHWnRDP2Y-Q",
    "tags": []
   },
   "source": [
    "# CIS 443-01 Exam 1 Notebook\n",
    "## 100 pts.\n",
    "## Directions\n",
    "1. Answer the question in the cell provided.\n",
    "1. When finished, save your work, close the Jupyter Lab file, and Shut Down Jupyter Lab. You will upload this Jupyter Notebook file as your submission to Question 1 in Exam 1 in Blackboard.\n",
    "1. Be sure to keep an unaltered version of this file just in case anything goes wrong in Blackboard. If you aren't working from your own computer, upload a copy to OneDrive or other cloud storage and do not modify it.\n"
   ]
  },
  {
   "cell_type": "markdown",
   "metadata": {},
   "source": [
    "# Concept Questions"
   ]
  },
  {
   "cell_type": "markdown",
   "metadata": {},
   "source": [
    "### Question 1\n",
    "\n",
    "Give an overview of Lists, Tuples, and Strings, highlighting similarities and differences in their nature as collections"
   ]
  },
  {
   "cell_type": "raw",
   "metadata": {},
   "source": []
  },
  {
   "cell_type": "markdown",
   "metadata": {},
   "source": [
    "### Question 2\n",
    "\n",
    "For loops work by targeting an item in an iterator. What kinds of things are valid iterators? What happens if the iterator is empty?"
   ]
  },
  {
   "cell_type": "raw",
   "metadata": {},
   "source": []
  },
  {
   "cell_type": "markdown",
   "metadata": {},
   "source": [
    "### Question 3\n",
    "\n",
    "Explain the use of the return statement in Python. What happens when we use it? What happens to code written after it? When happens when we don't use it? Can it give multiple values?"
   ]
  },
  {
   "cell_type": "raw",
   "metadata": {},
   "source": []
  },
  {
   "cell_type": "markdown",
   "metadata": {},
   "source": [
    "### Question 4\n",
    "\n",
    "Explain what unpacking a sequence means. What sequences can we unpack? Can we repack things back into a sequence, and if so, what type of sequence? "
   ]
  },
  {
   "cell_type": "raw",
   "metadata": {},
   "source": []
  },
  {
   "cell_type": "markdown",
   "metadata": {},
   "source": [
    "### Question 5\n",
    "\n",
    "How are strings sorted in python? What key isssue emerges when applying a sort against an untransformed list of strings? How did we get around that issue?"
   ]
  },
  {
   "cell_type": "raw",
   "metadata": {},
   "source": []
  },
  {
   "cell_type": "markdown",
   "metadata": {},
   "source": [
    "### Question 6\n",
    "\n",
    "Are lists capable of storing heterogenous, or homogenous data? Conceptually, which of the two applies to lists?"
   ]
  },
  {
   "cell_type": "raw",
   "metadata": {},
   "source": []
  },
  {
   "cell_type": "markdown",
   "metadata": {},
   "source": [
    "### Question 7\n",
    "\n",
    "What problems can emerge without careful naming of our variables in python? In class we explained two ways to undo this damage, should it be caused. Explain at least one of them."
   ]
  },
  {
   "cell_type": "raw",
   "metadata": {},
   "source": []
  },
  {
   "cell_type": "markdown",
   "metadata": {},
   "source": [
    "### Question 8\n",
    "\n",
    "Explain the 3 parts of the range function. How did this compare to the parts we used for slicing? What was the difference of copying a list, versus copying a list slice?"
   ]
  },
  {
   "cell_type": "raw",
   "metadata": {},
   "source": []
  },
  {
   "cell_type": "markdown",
   "metadata": {},
   "source": [
    "### Question 9\n",
    "\n",
    "What technique in Python allowed us to transform the values in a list and apply criteria to the values in a list? What differentiated it from a generator expression?"
   ]
  },
  {
   "cell_type": "raw",
   "metadata": {},
   "source": []
  },
  {
   "cell_type": "markdown",
   "metadata": {},
   "source": [
    "### Question 10\n",
    "\n",
    "Generator expressions do not directly store data into memory. What do they store instead? What happens to an item in a generator expression once it has been processed?"
   ]
  },
  {
   "cell_type": "raw",
   "metadata": {},
   "source": []
  },
  {
   "cell_type": "markdown",
   "metadata": {},
   "source": [
    "### Question 11\n",
    "\n",
    "Explain what the enumerate function returns, and what data type this return is structured as."
   ]
  },
  {
   "cell_type": "raw",
   "metadata": {},
   "source": []
  },
  {
   "cell_type": "markdown",
   "metadata": {},
   "source": [
    "### EXTRA CREDIT\n",
    "\n",
    "Explain the difference between using _import SampleLibrary_ and _from SampleLibrary import *_"
   ]
  },
  {
   "cell_type": "raw",
   "metadata": {},
   "source": []
  },
  {
   "cell_type": "markdown",
   "metadata": {},
   "source": [
    "# Code Fragments"
   ]
  },
  {
   "cell_type": "markdown",
   "metadata": {},
   "source": [
    "### Problem 1\n",
    "Write a Python code fragment in the code cell below that defines a function named `calc_decibels` that accepts power ratio (a float) as the parameter and returns the Decibel Rating (10 * log base 10(power ratio)). Test the function with the following inputs: (4.0) and (50.0). \n",
    "\n"
   ]
  },
  {
   "cell_type": "code",
   "execution_count": 3,
   "metadata": {},
   "outputs": [],
   "source": [
    "import math\n",
    "#hint - use math.log(number, base)\n"
   ]
  },
  {
   "cell_type": "markdown",
   "metadata": {},
   "source": [
    "### Problem 2\n",
    "Write a Python code fragment in the code cell below that prints the factors of 5 (each on a separate line) from 2005 - 2050 (inclusive). Use whichever loop you prefer. "
   ]
  },
  {
   "cell_type": "code",
   "execution_count": null,
   "metadata": {},
   "outputs": [],
   "source": []
  },
  {
   "cell_type": "markdown",
   "metadata": {},
   "source": [
    "### Problem 3\n",
    "Write a Python code fragment in the code cell below that collects input about the UPF Rating of Clothing (an integer) and outputs the Protection category using a series of `if` statements. If UPF is 14 or less, print \"No Solar Protection.\" If 15 thru 29, print \"Minimum.\" If 30 thru 49, print \"Good.\" If 50 or more, print \"Excellent.\" If UPF is over 40, print \"Under 3% transmission\", and if UPF is over 20, print \"Under 5% transmission\". End each phrase with a period and a newline.\n",
    "\n",
    "Sample output for input: 35\n",
    "\n",
    "`Good.`<br />\n",
    "`Under 5% Transmission.`"
   ]
  },
  {
   "cell_type": "code",
   "execution_count": null,
   "metadata": {},
   "outputs": [],
   "source": []
  },
  {
   "cell_type": "markdown",
   "metadata": {},
   "source": [
    "### Problem 4\n",
    "Write python code to import the statistics package, and use to take the mean of a list of your creation."
   ]
  },
  {
   "cell_type": "code",
   "execution_count": null,
   "metadata": {},
   "outputs": [],
   "source": []
  },
  {
   "cell_type": "markdown",
   "metadata": {},
   "source": [
    "### Problem 5\n",
    "Write a Python code fragment in the code cell below that removes negative numbers from the list below. Then output the minimum value, maximum value, and average (mean) value each on a separate line."
   ]
  },
  {
   "cell_type": "code",
   "execution_count": null,
   "metadata": {},
   "outputs": [],
   "source": [
    "start_list = [-45, 10, 56, 78, -103, 38, 29, -4, 5, 10]\n"
   ]
  },
  {
   "cell_type": "markdown",
   "metadata": {},
   "source": [
    "# Coding Problem"
   ]
  },
  {
   "cell_type": "markdown",
   "metadata": {
    "id": "rCCy_Qs62Y-W"
   },
   "source": [
    "Write a Python code fragment in the code cell below that defines a function named `count_evens` that accepts a single parameter, `a_list`, a list of any length, and returns an integer (0+). Count any number which is divisible by 2. There are many ways that this determination can be made but strive to find a solution that is both _correct_ and _efficient_.\n",
    "\n",
    "Code to test your function has been provided at the bottom of the code cell below. It should not be modified.\n"
   ]
  },
  {
   "cell_type": "code",
   "execution_count": null,
   "metadata": {
    "id": "C2ixnsej2Y-X"
   },
   "outputs": [],
   "source": [
    "# Put function definition for count_evens here\n",
    "\n",
    "\n",
    "# Do not modify the code below\n",
    "list1 = [1,4,10,13,29,28,35,49,50]\n",
    "print(f'{list1}, Number of Evens: {count_evens(list1)}')\n",
    "list2 = [-14,2,8,99]\n",
    "print(f'{list2}, Number of Evens: {count_evens(list2)}') "
   ]
  },
  {
   "cell_type": "markdown",
   "metadata": {
    "id": "AaQN0RboB7Wm"
   },
   "source": [
    "Be sure to save and exit your Jupyter Notebook and Shutdown Jupyter Lab (from the __File__ menu) if using Ananconda before you submit your notebook on Blackboard for grading. If using Colab, be sure to Download (from the __File__ menu) back to your local file system before submitting to Blackboard.\n",
    "Make sure you don't submit the empty starting notebook by accident."
   ]
  }
 ],
 "metadata": {
  "colab": {
   "collapsed_sections": [],
   "name": "CIS443_Exam1_Part3.ipynb",
   "provenance": []
  },
  "kernelspec": {
   "display_name": "Python 3 (ipykernel)",
   "language": "python",
   "name": "python3"
  },
  "language_info": {
   "codemirror_mode": {
    "name": "ipython",
    "version": 3
   },
   "file_extension": ".py",
   "mimetype": "text/x-python",
   "name": "python",
   "nbconvert_exporter": "python",
   "pygments_lexer": "ipython3",
   "version": "3.9.13"
  }
 },
 "nbformat": 4,
 "nbformat_minor": 4
}
