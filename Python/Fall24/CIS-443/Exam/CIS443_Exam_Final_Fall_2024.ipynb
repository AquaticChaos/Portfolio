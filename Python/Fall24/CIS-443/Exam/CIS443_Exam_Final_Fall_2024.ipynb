{
 "cells": [
  {
   "cell_type": "markdown",
   "metadata": {
    "id": "IBHWnRDP2Y-Q",
    "tags": []
   },
   "source": [
    "# CIS 443-01 Final Exam Notebook\n",
    "## 150 pts.\n",
    "## Directions\n",
    "1. Answer the question in the cell provided.\n",
    "1. When finished, save your work, close the Jupyter Lab file, and Shut Down Jupyter Lab. You will upload this Jupyter Notebook file as your submission to Question 1 in Exam 2 in Blackboard.\n",
    "1. Be sure to keep an unaltered version of this file just in case anything goes wrong in Blackboard. If you aren't working from your own computer, upload a copy to OneDrive or other cloud storage and do not modify it.\n"
   ]
  },
  {
   "cell_type": "markdown",
   "metadata": {},
   "source": [
    "# Concept Questions"
   ]
  },
  {
   "cell_type": "markdown",
   "metadata": {},
   "source": [
    "### Question 1\n",
    "\n",
    "How does a list differ from a Numpy Array? Make sure to address data types and copying."
   ]
  },
  {
   "cell_type": "raw",
   "metadata": {},
   "source": []
  },
  {
   "cell_type": "markdown",
   "metadata": {},
   "source": [
    "### Question 2\n",
    "\n",
    "Why do we need to perform a training and testing data split when building our models?"
   ]
  },
  {
   "cell_type": "raw",
   "metadata": {},
   "source": []
  },
  {
   "cell_type": "markdown",
   "metadata": {},
   "source": [
    "### Question 3\n",
    "\n",
    "What flat file format did we discuss for handling data transfers into our scripts? Why was it better than .txt data? What was a drawback?"
   ]
  },
  {
   "cell_type": "raw",
   "metadata": {},
   "source": []
  },
  {
   "cell_type": "markdown",
   "metadata": {
    "tags": []
   },
   "source": [
    "### Question 4\n",
    "\n",
    "What is meant by sentiment of a body of text? What about polarity? What was the scale (of the algorithm that we used) of each, and what did the scale mean?"
   ]
  },
  {
   "cell_type": "raw",
   "metadata": {},
   "source": []
  },
  {
   "cell_type": "markdown",
   "metadata": {
    "tags": []
   },
   "source": [
    "### Question 5\n",
    "\n",
    "What does it mean if a model is overfitted to the data used for training?"
   ]
  },
  {
   "cell_type": "raw",
   "metadata": {},
   "source": []
  },
  {
   "cell_type": "markdown",
   "metadata": {},
   "source": [
    "### Question 6\n",
    "\n",
    "What is a confusion matrix? Make sure to explain what each axis represents."
   ]
  },
  {
   "cell_type": "raw",
   "metadata": {},
   "source": []
  },
  {
   "cell_type": "markdown",
   "metadata": {},
   "source": [
    "### Question 7\n",
    "\n",
    "What does r-squared indicate for a given model? are there 'bad' values for r-squared?"
   ]
  },
  {
   "cell_type": "raw",
   "metadata": {},
   "source": []
  },
  {
   "cell_type": "markdown",
   "metadata": {},
   "source": [
    "### Question 8\n",
    "\n",
    "If we predominantly use CSV files for transmitting information in flat files, what was the use case for JSON? What does it have in common with XML?"
   ]
  },
  {
   "cell_type": "raw",
   "metadata": {},
   "source": []
  },
  {
   "cell_type": "markdown",
   "metadata": {
    "tags": []
   },
   "source": [
    "### Question 9\n",
    "\n",
    "Explain the difference between supervised and unsupervised machine learning. Give an example of each."
   ]
  },
  {
   "cell_type": "raw",
   "metadata": {},
   "source": []
  },
  {
   "cell_type": "markdown",
   "metadata": {},
   "source": [
    "### Question 10\n",
    "\n",
    "A linear regression model is rooted in `y=mx+b` - explain each part of this equation, in terms of relevance to linear regression and real world meaning."
   ]
  },
  {
   "cell_type": "raw",
   "metadata": {},
   "source": []
  },
  {
   "cell_type": "markdown",
   "metadata": {},
   "source": [
    "### Question 11\n",
    "\n",
    "What is dimensionality reduction? What does it practically allow us to do?"
   ]
  },
  {
   "cell_type": "raw",
   "metadata": {},
   "source": []
  },
  {
   "cell_type": "markdown",
   "metadata": {},
   "source": [
    "### Question 12\n",
    "\n",
    "Is it easier for a human to follow a logistic regression or decision tree? Offer a 1-2 sentence explanation of your reasoning."
   ]
  },
  {
   "cell_type": "raw",
   "metadata": {},
   "source": []
  },
  {
   "cell_type": "markdown",
   "metadata": {},
   "source": [
    "### Question 13\n",
    "\n",
    "Given a model has been built with the following equation, give a real world explanation of the numbers contained within:\n",
    "\n",
    "predicted_fuel_mileage = -.7 * speed_mph + -.01 * displacement_cubic_centimeters + 90"
   ]
  },
  {
   "cell_type": "raw",
   "metadata": {},
   "source": []
  },
  {
   "cell_type": "markdown",
   "metadata": {
    "tags": []
   },
   "source": [
    "### Question 14\n",
    "\n",
    "What does the k refer to in K-means clustering? What does it refer to in k-nearest neighbors?"
   ]
  },
  {
   "cell_type": "raw",
   "metadata": {},
   "source": []
  },
  {
   "cell_type": "markdown",
   "metadata": {},
   "source": [
    "# Code Fragments"
   ]
  },
  {
   "cell_type": "markdown",
   "metadata": {},
   "source": [
    "### Problem 1\n",
    "Perform a train test split of the datasets included below\n"
   ]
  },
  {
   "cell_type": "code",
   "execution_count": null,
   "metadata": {},
   "outputs": [],
   "source": [
    "from sklearn.datasets import load_diabetes\n",
    "dia_data = load_diabetes()\n",
    "x_values = dia_data.data\n",
    "y_values = dia_data.target\n",
    "\n"
   ]
  },
  {
   "cell_type": "markdown",
   "metadata": {},
   "source": [
    "### Problem 2\n",
    "Import both the logistic regression function and the logistic regression function. You do not need to use them"
   ]
  },
  {
   "cell_type": "code",
   "execution_count": null,
   "metadata": {},
   "outputs": [],
   "source": [
    "\n",
    "\n"
   ]
  },
  {
   "cell_type": "markdown",
   "metadata": {},
   "source": [
    "### Problem 3\n",
    "Write a python function that will take a p-value and significance level as a parameter: CalculateSignificance(p_val, sig_lev)\n",
    "\n",
    "if the p value is less than the significance level, return (not print) \"Significant\". Otherwise, print \"Insignificant\". If the p value is invalid (not between zero and 1), return \"Invalid\". Test with the inputs (.0001, .05)"
   ]
  },
  {
   "cell_type": "code",
   "execution_count": null,
   "metadata": {},
   "outputs": [],
   "source": []
  },
  {
   "cell_type": "markdown",
   "metadata": {},
   "source": [
    "### Problem 4\n",
    "Use arange and reshape to create a 5-by-3 ndarray containing the numbers 1–15 (inclusive of both endpoints). Use broadcasting to perform each of the following operations on the original array creating a new ndarray and printing its contents: (2 pts. each)\n",
    "\n",
    "    Use arange and reshape to create a 5-by-3 ndarray containing the numbers 1-15 (inclusive of both endpoints). Print the original array.\n",
    "    Use broadcasting to subtract 3 to every element of the original array. Print the resulting array.\n",
    "    Use broadcasting to multiply every element of the original array by 4.5. Print the resulting array."
   ]
  },
  {
   "cell_type": "code",
   "execution_count": null,
   "metadata": {},
   "outputs": [],
   "source": []
  },
  {
   "cell_type": "markdown",
   "metadata": {},
   "source": [
    "### Problem \n",
    "\n",
    "Write a Python code fragment in the code cell below that prints the factors of 27 (each on a separate line) from 27 - 108 (inclusive). Use whichever loop you prefer. "
   ]
  },
  {
   "cell_type": "code",
   "execution_count": null,
   "metadata": {},
   "outputs": [],
   "source": []
  },
  {
   "cell_type": "markdown",
   "metadata": {},
   "source": [
    "# Coding Problem"
   ]
  },
  {
   "cell_type": "markdown",
   "metadata": {
    "id": "rCCy_Qs62Y-W"
   },
   "source": [
    "Write a Python code solution in the code cell below that performs a decision tree analysis against the preimported data. Display the chart. Relevant settings to make it display correctly have been included. Ensure you perform a train_test_split as part of your analysis. \n"
   ]
  },
  {
   "cell_type": "code",
   "execution_count": null,
   "metadata": {
    "id": "C2ixnsej2Y-X"
   },
   "outputs": [],
   "source": [
    "# Do not modify the code below\n",
    "from sklearn.datasets import load_wine\n",
    "%matplotlib inline\n",
    "import matplotlib.pyplot as plt\n",
    "import seaborn as sns\n",
    "from sklearn import tree\n",
    "plt.subplots(nrows = 1,ncols = 1,figsize = (5,5), dpi=300)\n",
    "\n",
    "data = load_wine()\n",
    "#your code here\n",
    "\n",
    "\n",
    "\n",
    "\n",
    "\n",
    "y = tree.plot_tree()#your model variable in the parentheses\n",
    "\n"
   ]
  },
  {
   "cell_type": "markdown",
   "metadata": {
    "id": "AaQN0RboB7Wm"
   },
   "source": [
    "Be sure to save and exit your Jupyter Notebook and Shutdown Jupyter Lab (from the __File__ menu) if using Ananconda before you submit your notebook on Blackboard for grading. If using Colab, be sure to Download (from the __File__ menu) back to your local file system before submitting to Blackboard.\n",
    "Make sure you don't submit the empty starting notebook by accident."
   ]
  }
 ],
 "metadata": {
  "colab": {
   "collapsed_sections": [],
   "name": "CIS443_Exam1_Part3.ipynb",
   "provenance": []
  },
  "kernelspec": {
   "display_name": "Python 3 (ipykernel)",
   "language": "python",
   "name": "python3"
  },
  "language_info": {
   "codemirror_mode": {
    "name": "ipython",
    "version": 3
   },
   "file_extension": ".py",
   "mimetype": "text/x-python",
   "name": "python",
   "nbconvert_exporter": "python",
   "pygments_lexer": "ipython3",
   "version": "3.9.13"
  }
 },
 "nbformat": 4,
 "nbformat_minor": 4
}
